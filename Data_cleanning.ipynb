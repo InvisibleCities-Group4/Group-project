{
  "cells": [
    {
      "metadata": {
        "trusted": true
      },
      "cell_type": "code",
      "source": "import pandas as pd\ndata = pd.read_csv('https://raw.githubusercontent.com/wongcyu/GroupProject/master/GlobalChangedName.csv')",
      "execution_count": 1,
      "outputs": []
    },
    {
      "metadata": {
        "trusted": true
      },
      "cell_type": "code",
      "source": "data.head()",
      "execution_count": 2,
      "outputs": [
        {
          "output_type": "execute_result",
          "execution_count": 2,
          "data": {
            "text/html": "<div>\n<style scoped>\n    .dataframe tbody tr th:only-of-type {\n        vertical-align: middle;\n    }\n\n    .dataframe tbody tr th {\n        vertical-align: top;\n    }\n\n    .dataframe thead th {\n        text-align: right;\n    }\n</style>\n<table border=\"1\" class=\"dataframe\">\n  <thead>\n    <tr style=\"text-align: right;\">\n      <th></th>\n      <th>City</th>\n      <th>Country</th>\n      <th>Latitude</th>\n      <th>Longitude</th>\n      <th>Year</th>\n      <th>Value</th>\n      <th>Date</th>\n      <th>Time</th>\n      <th>Min</th>\n      <th>TimeNew</th>\n      <th>VAL_0</th>\n    </tr>\n  </thead>\n  <tbody>\n    <tr>\n      <th>0</th>\n      <td>Tokyo</td>\n      <td>Japan</td>\n      <td>35.6895</td>\n      <td>139.69171</td>\n      <td>1975</td>\n      <td>23000000</td>\n      <td>/01/01</td>\n      <td>01/01/1975</td>\n      <td>00:00:00</td>\n      <td>01/01/1975 00:00</td>\n      <td>1.000000</td>\n    </tr>\n    <tr>\n      <th>1</th>\n      <td>Tokyo</td>\n      <td>Japan</td>\n      <td>35.6895</td>\n      <td>139.69171</td>\n      <td>1970</td>\n      <td>20450000</td>\n      <td>/01/01</td>\n      <td>01/01/1970</td>\n      <td>00:00:00</td>\n      <td>01/01/1970 00:00</td>\n      <td>0.889130</td>\n    </tr>\n    <tr>\n      <th>2</th>\n      <td>Philadelphia</td>\n      <td>United States of America</td>\n      <td>39.95</td>\n      <td>-75.1667</td>\n      <td>1914</td>\n      <td>17600000</td>\n      <td>/01/01</td>\n      <td>01/01/1914</td>\n      <td>00:00:00</td>\n      <td>01/01/1914 00:00</td>\n      <td>0.765216</td>\n    </tr>\n    <tr>\n      <th>3</th>\n      <td>New York</td>\n      <td>United States of America</td>\n      <td>40.714353</td>\n      <td>-74.005972</td>\n      <td>1970</td>\n      <td>17252000</td>\n      <td>/01/01</td>\n      <td>01/01/1970</td>\n      <td>00:00:00</td>\n      <td>01/01/1970 00:00</td>\n      <td>0.750086</td>\n    </tr>\n    <tr>\n      <th>4</th>\n      <td>New York</td>\n      <td>United States of America</td>\n      <td>40.714353</td>\n      <td>-74.005972</td>\n      <td>1975</td>\n      <td>17100000</td>\n      <td>/01/01</td>\n      <td>01/01/1975</td>\n      <td>00:00:00</td>\n      <td>01/01/1975 00:00</td>\n      <td>0.743477</td>\n    </tr>\n  </tbody>\n</table>\n</div>",
            "text/plain": "           City                   Country   Latitude   Longitude  Year  \\\n0         Tokyo                     Japan    35.6895   139.69171  1975   \n1         Tokyo                     Japan    35.6895   139.69171  1970   \n2  Philadelphia  United States of America      39.95    -75.1667  1914   \n3      New York  United States of America  40.714353  -74.005972  1970   \n4      New York  United States of America  40.714353  -74.005972  1975   \n\n      Value    Date        Time        Min           TimeNew     VAL_0  \n0  23000000  /01/01  01/01/1975   00:00:00  01/01/1975 00:00  1.000000  \n1  20450000  /01/01  01/01/1970   00:00:00  01/01/1970 00:00  0.889130  \n2  17600000  /01/01  01/01/1914   00:00:00  01/01/1914 00:00  0.765216  \n3  17252000  /01/01  01/01/1970   00:00:00  01/01/1970 00:00  0.750086  \n4  17100000  /01/01  01/01/1975   00:00:00  01/01/1975 00:00  0.743477  "
          },
          "metadata": {}
        }
      ]
    },
    {
      "metadata": {
        "trusted": true
      },
      "cell_type": "code",
      "source": "len(data.groupby('Country'))",
      "execution_count": 3,
      "outputs": [
        {
          "output_type": "execute_result",
          "execution_count": 3,
          "data": {
            "text/plain": "139"
          },
          "metadata": {}
        }
      ]
    },
    {
      "metadata": {
        "trusted": true
      },
      "cell_type": "code",
      "source": "Europe = ['Russia Federation','Germany','Spain','Ukraine','Belgium','France', 'Italy', 'Netherlands', 'Norway', 'Sweden','Czech Republic', 'Finland',\n      'Denmark',  'Switzerland', 'United Kingdoms', 'Poland', 'Greece','Austria','Slovakia', 'Montenegro','Malta','Andorra','Monaco','Liechtenstein'\n      'Bulgaria', 'Hungary', 'Luxembourg', 'Romania' , 'Slovakia', 'Estonia', 'Slovenia','Portugal', 'Republic of Moldova','Bosnia and Herzegovina'\n      'Croatia', 'Lithuania', 'Latvia','Serbia', 'Estonia', 'Iceland','North Macedonia', 'San Marino','Holy See','Albania','Crimea',\n      'Cyprus','Wales']\n\nAsia = ['Afghanistan', 'Bahrain', 'Armenia', 'Azerbaijan', 'Bangladesh', 'Bhutan', 'Brunei', 'Burma', 'Cambodia', 'China', \n        'East Timor', 'Georgia', 'India', 'Indonesia', 'Iran', 'Iraq', 'Israel', 'Japan', 'Jordan', 'Kazakhstan', 'Kuwait',\n        'Kyrgyzstan', 'Laos, Lebanon', 'Malaysia', 'Mongolia', 'Nepal', 'North Korea', 'Oman', 'Pakistan', 'Papua New Guinea',\n        'Philippines', 'Qatar', 'Saudi Arabia', 'Singapore', 'Republic of Korea', 'Sri Lanka', 'Syria', 'Tajikistan', 'Thailand',\n        'Turkey', 'Turkmenistan', 'United Arab Emirates', 'Uzbekistan', 'Vietnam','Yemen','Aazerbaijian','Belarus',\n        'Myanmar','Syria/Turkey','Taiwan']\n\nAfrica = ['Nigeria','Ethiopia','Egypt','DR Congo','Tanzania','South Africa','Kenya','Uganda','Algeria','Sudan','Morocco', 'Angola','Mozambique','Ghana','Madagascar',\n          'Cameroon','Niger','Burkina Faso','Malawi','Mali','Zambia','Zimbabwe','Senegal','Chad','Somalia','Guniea','South Sudan','Rwanda','Benin', \n          'Tunisia','Burundi','Togo','Sierra Leone','Libya','Congo','Eritrea','Liberia',\n          'Central African Republic', 'Mauritania','Namibia','Botswana','Lesotho', 'Gambia'\n          'Gabon','Guinea-Bissau','Swaziland','Equatorial Guinea','Mauritius','Djibouti',\n          'Kenya','Comoros','Cabo Verde','Sao Tome & Principe','Seychelles','Algiers','Cote D lovire',\n          'Muritius', ]\n\nAmericas = ['United States of America', 'Mexico','Canada','Brazil','Colombia','Argentina','Peru','Venezuela','Chile'\n           'Ecuador','Guatemala','Cuba','Bolivia','Haiti','Fominican Repablic','Honduras','Paraguay','Nicaragua',\n           'El Salvador','Costa Rica','Panama','Uraguay','Jamaica','Trinidad and Tobago','Guyana',\n           'Suriname','Bahamas','Belize','Barbados','Saint Lucia','Grenada','Dominica','Antigua and Barbuda','Columbia',\n           'Puerto Rico']\n\nOceania = ['Austrialia', 'New Zealand']",
      "execution_count": 7,
      "outputs": []
    },
    {
      "metadata": {
        "trusted": true
      },
      "cell_type": "code",
      "source": "data['Contient'] = 0\ndata.loc[data.Country.isin(Asia), 'Contient'] = 'Asia'\ndata.loc[data.Country.isin(Europe), 'Contient'] = 'Europe'\ndata.loc[data.Country.isin(Africa), 'Contient'] = 'Africa'\ndata.loc[data.Country.isin(Americas), 'Contient'] = 'Americas'\ndata.loc[data.Country.isin(Oceania), 'Contient'] = 'Oceania'",
      "execution_count": 8,
      "outputs": []
    },
    {
      "metadata": {
        "trusted": true
      },
      "cell_type": "code",
      "source": "data.head()",
      "execution_count": 9,
      "outputs": [
        {
          "output_type": "execute_result",
          "execution_count": 9,
          "data": {
            "text/html": "<div>\n<style scoped>\n    .dataframe tbody tr th:only-of-type {\n        vertical-align: middle;\n    }\n\n    .dataframe tbody tr th {\n        vertical-align: top;\n    }\n\n    .dataframe thead th {\n        text-align: right;\n    }\n</style>\n<table border=\"1\" class=\"dataframe\">\n  <thead>\n    <tr style=\"text-align: right;\">\n      <th></th>\n      <th>City</th>\n      <th>Country</th>\n      <th>Latitude</th>\n      <th>Longitude</th>\n      <th>Year</th>\n      <th>Value</th>\n      <th>Date</th>\n      <th>Time</th>\n      <th>Min</th>\n      <th>TimeNew</th>\n      <th>VAL_0</th>\n      <th>Contient</th>\n    </tr>\n  </thead>\n  <tbody>\n    <tr>\n      <th>0</th>\n      <td>Tokyo</td>\n      <td>Japan</td>\n      <td>35.6895</td>\n      <td>139.69171</td>\n      <td>1975</td>\n      <td>23000000</td>\n      <td>/01/01</td>\n      <td>01/01/1975</td>\n      <td>00:00:00</td>\n      <td>01/01/1975 00:00</td>\n      <td>1.000000</td>\n      <td>Asia</td>\n    </tr>\n    <tr>\n      <th>1</th>\n      <td>Tokyo</td>\n      <td>Japan</td>\n      <td>35.6895</td>\n      <td>139.69171</td>\n      <td>1970</td>\n      <td>20450000</td>\n      <td>/01/01</td>\n      <td>01/01/1970</td>\n      <td>00:00:00</td>\n      <td>01/01/1970 00:00</td>\n      <td>0.889130</td>\n      <td>Asia</td>\n    </tr>\n    <tr>\n      <th>2</th>\n      <td>Philadelphia</td>\n      <td>United States of America</td>\n      <td>39.95</td>\n      <td>-75.1667</td>\n      <td>1914</td>\n      <td>17600000</td>\n      <td>/01/01</td>\n      <td>01/01/1914</td>\n      <td>00:00:00</td>\n      <td>01/01/1914 00:00</td>\n      <td>0.765216</td>\n      <td>Americas</td>\n    </tr>\n    <tr>\n      <th>3</th>\n      <td>New York</td>\n      <td>United States of America</td>\n      <td>40.714353</td>\n      <td>-74.005972</td>\n      <td>1970</td>\n      <td>17252000</td>\n      <td>/01/01</td>\n      <td>01/01/1970</td>\n      <td>00:00:00</td>\n      <td>01/01/1970 00:00</td>\n      <td>0.750086</td>\n      <td>Americas</td>\n    </tr>\n    <tr>\n      <th>4</th>\n      <td>New York</td>\n      <td>United States of America</td>\n      <td>40.714353</td>\n      <td>-74.005972</td>\n      <td>1975</td>\n      <td>17100000</td>\n      <td>/01/01</td>\n      <td>01/01/1975</td>\n      <td>00:00:00</td>\n      <td>01/01/1975 00:00</td>\n      <td>0.743477</td>\n      <td>Americas</td>\n    </tr>\n  </tbody>\n</table>\n</div>",
            "text/plain": "           City                   Country   Latitude   Longitude  Year  \\\n0         Tokyo                     Japan    35.6895   139.69171  1975   \n1         Tokyo                     Japan    35.6895   139.69171  1970   \n2  Philadelphia  United States of America      39.95    -75.1667  1914   \n3      New York  United States of America  40.714353  -74.005972  1970   \n4      New York  United States of America  40.714353  -74.005972  1975   \n\n      Value    Date        Time        Min           TimeNew     VAL_0  \\\n0  23000000  /01/01  01/01/1975   00:00:00  01/01/1975 00:00  1.000000   \n1  20450000  /01/01  01/01/1970   00:00:00  01/01/1970 00:00  0.889130   \n2  17600000  /01/01  01/01/1914   00:00:00  01/01/1914 00:00  0.765216   \n3  17252000  /01/01  01/01/1970   00:00:00  01/01/1970 00:00  0.750086   \n4  17100000  /01/01  01/01/1975   00:00:00  01/01/1975 00:00  0.743477   \n\n   Contient  \n0      Asia  \n1      Asia  \n2  Americas  \n3  Americas  \n4  Americas  "
          },
          "metadata": {}
        }
      ]
    },
    {
      "metadata": {
        "trusted": true
      },
      "cell_type": "code",
      "source": "data.to_csv(\"data_edition.csv\")",
      "execution_count": 10,
      "outputs": []
    }
  ],
  "metadata": {
    "kernelspec": {
      "name": "python36",
      "display_name": "Python 3.6",
      "language": "python"
    },
    "language_info": {
      "mimetype": "text/x-python",
      "nbconvert_exporter": "python",
      "name": "python",
      "pygments_lexer": "ipython3",
      "version": "3.6.6",
      "file_extension": ".py",
      "codemirror_mode": {
        "version": 3,
        "name": "ipython"
      }
    }
  },
  "nbformat": 4,
  "nbformat_minor": 2
}